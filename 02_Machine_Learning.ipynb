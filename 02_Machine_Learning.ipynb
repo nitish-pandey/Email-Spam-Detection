{
 "cells": [
  {
   "cell_type": "markdown",
   "id": "feb7a22f",
   "metadata": {},
   "source": [
    "## Table of Content:\n",
    "1. Importing Libraries and Data\n",
    "2. Data Preprocessing and Feature Engineering\n",
    "3. Model Building and Evaluation"
   ]
  },
  {
   "cell_type": "markdown",
   "id": "2e8d3afe",
   "metadata": {},
   "source": [
    "## 1. Importing Libraries and Data"
   ]
  },
  {
   "cell_type": "code",
   "execution_count": 35,
   "id": "66797625",
   "metadata": {},
   "outputs": [],
   "source": [
    "import pandas as pd\n",
    "import numpy as np\n",
    "import matplotlib.pyplot as plt\n",
    "import seaborn as sns\n",
    "\n",
    "import warnings\n",
    "warnings.filterwarnings('ignore')\n",
    "%matplotlib inline\n"
   ]
  },
  {
   "cell_type": "code",
   "execution_count": 36,
   "id": "09575142",
   "metadata": {},
   "outputs": [],
   "source": [
    "from sklearn.model_selection import train_test_split\n",
    "from sklearn.preprocessing import StandardScaler\n",
    "\n",
    "from sklearn.feature_extraction.text import CountVectorizer, TfidfVectorizer\n",
    "\n",
    "# import multinomial naive bayes\n",
    "from sklearn.naive_bayes import MultinomialNB, GaussianNB\n",
    "\n",
    "\n",
    "from sklearn.metrics import confusion_matrix, classification_report\n"
   ]
  },
  {
   "cell_type": "code",
   "execution_count": 37,
   "id": "fafa8e4e",
   "metadata": {},
   "outputs": [
    {
     "data": {
      "text/html": [
       "<div>\n",
       "<style scoped>\n",
       "    .dataframe tbody tr th:only-of-type {\n",
       "        vertical-align: middle;\n",
       "    }\n",
       "\n",
       "    .dataframe tbody tr th {\n",
       "        vertical-align: top;\n",
       "    }\n",
       "\n",
       "    .dataframe thead th {\n",
       "        text-align: right;\n",
       "    }\n",
       "</style>\n",
       "<table border=\"1\" class=\"dataframe\">\n",
       "  <thead>\n",
       "    <tr style=\"text-align: right;\">\n",
       "      <th></th>\n",
       "      <th>Body</th>\n",
       "      <th>Label</th>\n",
       "    </tr>\n",
       "  </thead>\n",
       "  <tbody>\n",
       "    <tr>\n",
       "      <th>0</th>\n",
       "      <td>save life insurance spend life quote saving en...</td>\n",
       "      <td>1</td>\n",
       "    </tr>\n",
       "    <tr>\n",
       "      <th>1</th>\n",
       "      <td>fight risk cancer http www adclick w p cfm pk ...</td>\n",
       "      <td>1</td>\n",
       "    </tr>\n",
       "    <tr>\n",
       "      <th>2</th>\n",
       "      <td>fight risk cancer http www adclick w p cfm pk ...</td>\n",
       "      <td>1</td>\n",
       "    </tr>\n",
       "    <tr>\n",
       "      <th>3</th>\n",
       "      <td>adult club offer free membership instant acces...</td>\n",
       "      <td>1</td>\n",
       "    </tr>\n",
       "    <tr>\n",
       "      <th>4</th>\n",
       "      <td>thought might like slim guaranteed lose lb day...</td>\n",
       "      <td>1</td>\n",
       "    </tr>\n",
       "  </tbody>\n",
       "</table>\n",
       "</div>"
      ],
      "text/plain": [
       "                                                Body  Label\n",
       "0  save life insurance spend life quote saving en...      1\n",
       "1  fight risk cancer http www adclick w p cfm pk ...      1\n",
       "2  fight risk cancer http www adclick w p cfm pk ...      1\n",
       "3  adult club offer free membership instant acces...      1\n",
       "4  thought might like slim guaranteed lose lb day...      1"
      ]
     },
     "execution_count": 37,
     "metadata": {},
     "output_type": "execute_result"
    }
   ],
   "source": [
    "data=pd.read_csv('Resources/prepared_data1.csv')\n",
    "data.fillna(' ',inplace=True)\n",
    "data.head()"
   ]
  },
  {
   "cell_type": "markdown",
   "id": "176fc726",
   "metadata": {},
   "source": [
    "## 2. Data Preprocessing and Feature Engineering"
   ]
  },
  {
   "cell_type": "code",
   "execution_count": 38,
   "id": "d08a931a",
   "metadata": {},
   "outputs": [],
   "source": [
    "\n",
    "# TF-IDF\n",
    "\n",
    "tfidf=TfidfVectorizer()\n",
    "\n",
    "# Split the data into training and testing sets\n",
    "\n",
    "X=data['Body']\n",
    "y=data['Label']\n",
    "\n",
    "X_train,X_test,y_train,y_test=train_test_split(X,y,test_size=0.2,random_state=42)\n",
    "\n",
    "X_train=tfidf.fit_transform(X_train)\n",
    "X_test=tfidf.transform(X_test)\n",
    "\n"
   ]
  },
  {
   "cell_type": "markdown",
   "id": "5ee16f40",
   "metadata": {},
   "source": [
    "## 3. Model Building and Evaluation"
   ]
  },
  {
   "cell_type": "code",
   "execution_count": 42,
   "id": "e7dd4e6a",
   "metadata": {},
   "outputs": [
    {
     "name": "stdout",
     "output_type": "stream",
     "text": [
      "[[755  10]\n",
      " [ 49 245]]\n"
     ]
    }
   ],
   "source": [
    "\n",
    "clf2=GaussianNB()\n",
    "\n",
    "clf2.fit(X_train.toarray(),y_train)\n",
    "\n",
    "y_pred2 = (clf2.predict_proba(X_test.toarray())[:,1] >= 0.25).astype(bool) # set threshold as 0.3\n",
    "\n",
    "print(confusion_matrix(y_test,y_pred2))\n"
   ]
  },
  {
   "cell_type": "code",
   "execution_count": 39,
   "id": "d1f19f33",
   "metadata": {},
   "outputs": [
    {
     "name": "stdout",
     "output_type": "stream",
     "text": [
      "[[765   0]\n",
      " [ 64 230]]\n"
     ]
    }
   ],
   "source": [
    "\n",
    "# Multinomial Naive Bayes\n",
    "clf=MultinomialNB()\n",
    "clf.fit(X_train,y_train)\n",
    "\n",
    "y_pred = (clf.predict_proba(X_test)[:,1] >= 0.25).astype(bool) # set threshold as 0.3\n",
    "\n",
    "print(confusion_matrix(y_test,y_pred))"
   ]
  },
  {
   "cell_type": "code",
   "execution_count": 43,
   "id": "52f1901d",
   "metadata": {},
   "outputs": [
    {
     "name": "stdout",
     "output_type": "stream",
     "text": [
      "Classification Report : \n",
      "               precision    recall  f1-score   support\n",
      "\n",
      "           0       0.94      0.99      0.96       765\n",
      "           1       0.96      0.83      0.89       294\n",
      "\n",
      "    accuracy                           0.94      1059\n",
      "   macro avg       0.95      0.91      0.93      1059\n",
      "weighted avg       0.95      0.94      0.94      1059\n",
      "\n"
     ]
    }
   ],
   "source": [
    "\n",
    "report=classification_report(y_test,y_pred2)\n",
    "matrix=confusion_matrix(y_test,y_pred2)\n",
    "print('Classification Report : \\n',classification_report(y_test,y_pred2))\n"
   ]
  },
  {
   "cell_type": "code",
   "execution_count": 44,
   "id": "dece3673",
   "metadata": {},
   "outputs": [
    {
     "data": {
      "image/png": "[encoded data removed]",
      "text/plain": [
       "<Figure size 1000x1000 with 1 Axes>"
      ]
     },
     "metadata": {},
     "output_type": "display_data"
    }
   ],
   "source": [
    "plt.figure(figsize=(10,10))\n",
    "plt.title('Confusion Matrix')\n",
    "sns.heatmap(matrix,annot=True,cmap='Blues',cbar=False)\n",
    "plt.xlabel('Predicted Label')\n",
    "plt.ylabel('Actual Label')\n",
    "plt.savefig('Resources/confusion_matrix.png',dpi=400,bbox_inches='tight')"
   ]
  },
  {
   "cell_type": "code",
   "execution_count": 26,
   "id": "4302ff0f",
   "metadata": {},
   "outputs": [
    {
     "data": {
      "text/plain": [
       "['Resources/vectorizer.pkl']"
      ]
     },
     "execution_count": 26,
     "metadata": {},
     "output_type": "execute_result"
    }
   ],
   "source": [
    "import joblib\n",
    "\n",
    "# Saving the Model using joblib\n",
    "joblib.dump(clf,'Resources/mymodel.pkl')\n",
    "\n",
    "# saving the tfidf vectorizer using joblib\n",
    "joblib.dump(tfidf,'Resources/vectorizer.pkl')\n"
   ]
  },
  {
   "cell_type": "code",
   "execution_count": 27,
   "id": "9c18f099",
   "metadata": {},
   "outputs": [
    {
     "ename": "NotFittedError",
     "evalue": "Vocabulary not fitted or provided",
     "output_type": "error",
     "traceback": [
      "\u001b[0;31m---------------------------------------------------------------------------\u001b[0m",
      "\u001b[0;31mNotFittedError\u001b[0m                            Traceback (most recent call last)",
      "\u001b[1;32m/home/nitish/Documents/Email-Spam-Detection/02_Machine_Learning.ipynb Cell 14\u001b[0m in \u001b[0;36m<cell line: 13>\u001b[0;34m()\u001b[0m\n\u001b[1;32m     <a href='vscode-notebook-cell:/home/nitish/Documents/Email-Spam-Detection/02_Machine_Learning.ipynb#X15sZmlsZQ%3D%3D?line=9'>10</a>\u001b[0m b\u001b[39m=\u001b[39m\u001b[39m\"\u001b[39m\u001b[39myou have been selected for a job interview\u001b[39m\u001b[39m\"\u001b[39m \u001b[39m# ham\u001b[39;00m\n\u001b[1;32m     <a href='vscode-notebook-cell:/home/nitish/Documents/Email-Spam-Detection/02_Machine_Learning.ipynb#X15sZmlsZQ%3D%3D?line=10'>11</a>\u001b[0m c\u001b[39m=\u001b[39m\u001b[39m\"\u001b[39m\u001b[39mhello how are you\u001b[39m\u001b[39m\"\u001b[39m \u001b[39m# ham\u001b[39;00m\n\u001b[0;32m---> <a href='vscode-notebook-cell:/home/nitish/Documents/Email-Spam-Detection/02_Machine_Learning.ipynb#X15sZmlsZQ%3D%3D?line=12'>13</a>\u001b[0m \u001b[39mprint\u001b[39m(predict_text(b))\n",
      "\u001b[1;32m/home/nitish/Documents/Email-Spam-Detection/02_Machine_Learning.ipynb Cell 14\u001b[0m in \u001b[0;36mpredict_text\u001b[0;34m(text)\u001b[0m\n\u001b[1;32m      <a href='vscode-notebook-cell:/home/nitish/Documents/Email-Spam-Detection/02_Machine_Learning.ipynb#X15sZmlsZQ%3D%3D?line=0'>1</a>\u001b[0m \u001b[39mdef\u001b[39;00m \u001b[39mpredict_text\u001b[39m(text):\n\u001b[1;32m      <a href='vscode-notebook-cell:/home/nitish/Documents/Email-Spam-Detection/02_Machine_Learning.ipynb#X15sZmlsZQ%3D%3D?line=2'>3</a>\u001b[0m     text\u001b[39m=\u001b[39m[text]\n\u001b[0;32m----> <a href='vscode-notebook-cell:/home/nitish/Documents/Email-Spam-Detection/02_Machine_Learning.ipynb#X15sZmlsZQ%3D%3D?line=3'>4</a>\u001b[0m     text\u001b[39m=\u001b[39mvectorizer\u001b[39m.\u001b[39;49mtransform(text)\n\u001b[1;32m      <a href='vscode-notebook-cell:/home/nitish/Documents/Email-Spam-Detection/02_Machine_Learning.ipynb#X15sZmlsZQ%3D%3D?line=4'>5</a>\u001b[0m     prediction\u001b[39m=\u001b[39mclf\u001b[39m.\u001b[39mpredict(text)\n\u001b[1;32m      <a href='vscode-notebook-cell:/home/nitish/Documents/Email-Spam-Detection/02_Machine_Learning.ipynb#X15sZmlsZQ%3D%3D?line=5'>6</a>\u001b[0m     \u001b[39mreturn\u001b[39;00m prediction\n",
      "File \u001b[0;32m~/.local/lib/python3.10/site-packages/sklearn/feature_extraction/text.py:1384\u001b[0m, in \u001b[0;36mCountVectorizer.transform\u001b[0;34m(self, raw_documents)\u001b[0m\n\u001b[1;32m   1380\u001b[0m \u001b[39mif\u001b[39;00m \u001b[39misinstance\u001b[39m(raw_documents, \u001b[39mstr\u001b[39m):\n\u001b[1;32m   1381\u001b[0m     \u001b[39mraise\u001b[39;00m \u001b[39mValueError\u001b[39;00m(\n\u001b[1;32m   1382\u001b[0m         \u001b[39m\"\u001b[39m\u001b[39mIterable over raw text documents expected, string object received.\u001b[39m\u001b[39m\"\u001b[39m\n\u001b[1;32m   1383\u001b[0m     )\n\u001b[0;32m-> 1384\u001b[0m \u001b[39mself\u001b[39;49m\u001b[39m.\u001b[39;49m_check_vocabulary()\n\u001b[1;32m   1386\u001b[0m \u001b[39m# use the same matrix-building strategy as fit_transform\u001b[39;00m\n\u001b[1;32m   1387\u001b[0m _, X \u001b[39m=\u001b[39m \u001b[39mself\u001b[39m\u001b[39m.\u001b[39m_count_vocab(raw_documents, fixed_vocab\u001b[39m=\u001b[39m\u001b[39mTrue\u001b[39;00m)\n",
      "File \u001b[0;32m~/.local/lib/python3.10/site-packages/sklearn/feature_extraction/text.py:506\u001b[0m, in \u001b[0;36m_VectorizerMixin._check_vocabulary\u001b[0;34m(self)\u001b[0m\n\u001b[1;32m    504\u001b[0m     \u001b[39mself\u001b[39m\u001b[39m.\u001b[39m_validate_vocabulary()\n\u001b[1;32m    505\u001b[0m     \u001b[39mif\u001b[39;00m \u001b[39mnot\u001b[39;00m \u001b[39mself\u001b[39m\u001b[39m.\u001b[39mfixed_vocabulary_:\n\u001b[0;32m--> 506\u001b[0m         \u001b[39mraise\u001b[39;00m NotFittedError(\u001b[39m\"\u001b[39m\u001b[39mVocabulary not fitted or provided\u001b[39m\u001b[39m\"\u001b[39m)\n\u001b[1;32m    508\u001b[0m \u001b[39mif\u001b[39;00m \u001b[39mlen\u001b[39m(\u001b[39mself\u001b[39m\u001b[39m.\u001b[39mvocabulary_) \u001b[39m==\u001b[39m \u001b[39m0\u001b[39m:\n\u001b[1;32m    509\u001b[0m     \u001b[39mraise\u001b[39;00m \u001b[39mValueError\u001b[39;00m(\u001b[39m\"\u001b[39m\u001b[39mVocabulary is empty\u001b[39m\u001b[39m\"\u001b[39m)\n",
      "\u001b[0;31mNotFittedError\u001b[0m: Vocabulary not fitted or provided"
     ]
    }
   ],
   "source": [
    "\n",
    "\n",
    "def predict_text(text):\n",
    "\n",
    "    text=[text]\n",
    "    text=vectorizer.transform(text)\n",
    "    prediction=clf.predict(text)\n",
    "    return prediction\n",
    "\n",
    "\n",
    "a=\"you won the lottery worth 1000000 dollars\" # spam\n",
    "b=\"you have been selected for a job interview\" # ham\n",
    "c=\"hello how are you\" # ham\n",
    "\n",
    "print(predict_text(b))"
   ]
  },
  {
   "cell_type": "code",
   "execution_count": null,
   "id": "f277ff47",
   "metadata": {},
   "outputs": [],
   "source": []
  }
 ],
 "metadata": {
  "kernelspec": {
   "display_name": "Python 3.10.6 64-bit",
   "language": "python",
   "name": "python3"
  },
  "language_info": {
   "codemirror_mode": {
    "name": "ipython",
    "version": 3
   },
   "file_extension": ".py",
   "mimetype": "text/x-python",
   "name": "python",
   "nbconvert_exporter": "python",
   "pygments_lexer": "ipython3",
   "version": "3.10.6"
  },
  "vscode": {
   "interpreter": {
    "hash": "916dbcbb3f70747c44a77c7bcd40155683ae19c65e1c03b4aa3499c5328201f1"
   }
  }
 },
 "nbformat": 4,
 "nbformat_minor": 5
}
