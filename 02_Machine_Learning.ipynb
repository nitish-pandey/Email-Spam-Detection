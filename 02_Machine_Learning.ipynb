{
 "cells": [
  {
   "cell_type": "markdown",
   "id": "feb7a22f",
   "metadata": {},
   "source": [
    "## Table of Content:\n",
    "1. Importing Libraries and Data\n",
    "2. Data Preprocessing and Feature Engineering\n",
    "3. Model Building and Evaluation"
   ]
  },
  {
   "cell_type": "markdown",
   "id": "2e8d3afe",
   "metadata": {},
   "source": [
    "## 1. Importing Libraries and Data"
   ]
  },
  {
   "cell_type": "code",
   "execution_count": 1,
   "id": "66797625",
   "metadata": {},
   "outputs": [],
   "source": [
    "import pandas as pd\n",
    "import numpy as np\n",
    "import matplotlib.pyplot as plt\n",
    "import seaborn as sns\n",
    "\n",
    "import warnings\n",
    "warnings.filterwarnings('ignore')\n",
    "%matplotlib inline\n"
   ]
  },
  {
   "cell_type": "code",
   "execution_count": 2,
   "id": "09575142",
   "metadata": {},
   "outputs": [],
   "source": [
    "from sklearn.model_selection import train_test_split\n",
    "from sklearn.preprocessing import StandardScaler\n",
    "\n",
    "from sklearn.feature_extraction.text import CountVectorizer, TfidfVectorizer\n",
    "\n",
    "# import multinomial naive bayes\n",
    "from sklearn.naive_bayes import MultinomialNB, GaussianNB\n",
    "\n",
    "\n",
    "from sklearn.metrics import confusion_matrix, classification_report\n"
   ]
  },
  {
   "cell_type": "code",
   "execution_count": 3,
   "id": "fafa8e4e",
   "metadata": {},
   "outputs": [
    {
     "data": {
      "text/html": [
       "<div>\n",
       "<style scoped>\n",
       "    .dataframe tbody tr th:only-of-type {\n",
       "        vertical-align: middle;\n",
       "    }\n",
       "\n",
       "    .dataframe tbody tr th {\n",
       "        vertical-align: top;\n",
       "    }\n",
       "\n",
       "    .dataframe thead th {\n",
       "        text-align: right;\n",
       "    }\n",
       "</style>\n",
       "<table border=\"1\" class=\"dataframe\">\n",
       "  <thead>\n",
       "    <tr style=\"text-align: right;\">\n",
       "      <th></th>\n",
       "      <th>Body</th>\n",
       "      <th>Label</th>\n",
       "    </tr>\n",
       "  </thead>\n",
       "  <tbody>\n",
       "    <tr>\n",
       "      <th>0</th>\n",
       "      <td>save life insurance spend life quote saving en...</td>\n",
       "      <td>1</td>\n",
       "    </tr>\n",
       "    <tr>\n",
       "      <th>1</th>\n",
       "      <td>fight risk cancer http www adclick w p cfm pk ...</td>\n",
       "      <td>1</td>\n",
       "    </tr>\n",
       "    <tr>\n",
       "      <th>2</th>\n",
       "      <td>fight risk cancer http www adclick w p cfm pk ...</td>\n",
       "      <td>1</td>\n",
       "    </tr>\n",
       "    <tr>\n",
       "      <th>3</th>\n",
       "      <td>adult club offer free membership instant acces...</td>\n",
       "      <td>1</td>\n",
       "    </tr>\n",
       "    <tr>\n",
       "      <th>4</th>\n",
       "      <td>thought might like slim guaranteed lose lb day...</td>\n",
       "      <td>1</td>\n",
       "    </tr>\n",
       "  </tbody>\n",
       "</table>\n",
       "</div>"
      ],
      "text/plain": [
       "                                                Body  Label\n",
       "0  save life insurance spend life quote saving en...      1\n",
       "1  fight risk cancer http www adclick w p cfm pk ...      1\n",
       "2  fight risk cancer http www adclick w p cfm pk ...      1\n",
       "3  adult club offer free membership instant acces...      1\n",
       "4  thought might like slim guaranteed lose lb day...      1"
      ]
     },
     "execution_count": 3,
     "metadata": {},
     "output_type": "execute_result"
    }
   ],
   "source": [
    "data=pd.read_csv('Resources/prepared_data1.csv')\n",
    "data.fillna(' ',inplace=True)\n",
    "data.head()"
   ]
  },
  {
   "cell_type": "markdown",
   "id": "176fc726",
   "metadata": {},
   "source": [
    "## 2. Data Preprocessing and Feature Engineering"
   ]
  },
  {
   "cell_type": "code",
   "execution_count": 4,
   "id": "d08a931a",
   "metadata": {},
   "outputs": [],
   "source": [
    "\n",
    "# maximum no of words:\\\n",
    "max_features=30000\n",
    "\n",
    "\n",
    "# TF-IDF\n",
    "tfidf=TfidfVectorizer(max_features=max_features)\n",
    "\n",
    "# Split the data into training and testing sets\n",
    "\n",
    "X=data['Body']\n",
    "y=data['Label']\n",
    "\n",
    "X_train,X_test,y_train,y_test=train_test_split(X,y,test_size=0.2,random_state=42)\n",
    "\n",
    "X_train=tfidf.fit_transform(X_train)\n",
    "X_test=tfidf.transform(X_test)\n",
    "\n"
   ]
  },
  {
   "cell_type": "markdown",
   "id": "5ee16f40",
   "metadata": {},
   "source": [
    "## 3. Model Building and Evaluation"
   ]
  },
  {
   "cell_type": "code",
   "execution_count": 5,
   "id": "d1f19f33",
   "metadata": {},
   "outputs": [
    {
     "name": "stdout",
     "output_type": "stream",
     "text": [
      "[[762   3]\n",
      " [ 27 267]]\n"
     ]
    }
   ],
   "source": [
    "\n",
    "# Multinomial Naive Bayes\n",
    "clf=MultinomialNB()\n",
    "clf.fit(X_train,y_train)\n",
    "\n",
    "y_pred = (clf.predict_proba(X_test)[:,1] >= 0.25).astype(bool) # set threshold as 0.25\n",
    "\n",
    "print(confusion_matrix(y_test,y_pred))"
   ]
  },
  {
   "cell_type": "code",
   "execution_count": 6,
   "id": "e7dd4e6a",
   "metadata": {},
   "outputs": [
    {
     "name": "stdout",
     "output_type": "stream",
     "text": [
      "[[757   8]\n",
      " [ 53 241]]\n"
     ]
    }
   ],
   "source": [
    "\n",
    "clf2=GaussianNB()\n",
    "\n",
    "clf2.fit(X_train.toarray(),y_train)\n",
    "\n",
    "y_pred2 = (clf2.predict_proba(X_test.toarray())[:,1] >= 0.25).astype(bool) # set threshold as 0.25\n",
    "\n",
    "print(confusion_matrix(y_test,y_pred2))\n"
   ]
  },
  {
   "cell_type": "code",
   "execution_count": 7,
   "id": "52f1901d",
   "metadata": {},
   "outputs": [
    {
     "name": "stdout",
     "output_type": "stream",
     "text": [
      "Classification Report : \n",
      "               precision    recall  f1-score   support\n",
      "\n",
      "           0       0.97      1.00      0.98       765\n",
      "           1       0.99      0.91      0.95       294\n",
      "\n",
      "    accuracy                           0.97      1059\n",
      "   macro avg       0.98      0.95      0.96      1059\n",
      "weighted avg       0.97      0.97      0.97      1059\n",
      "\n"
     ]
    }
   ],
   "source": [
    "\n",
    "report=classification_report(y_test,y_pred)\n",
    "matrix=confusion_matrix(y_test,y_pred)\n",
    "print('Classification Report : \\n',classification_report(y_test,y_pred))\n"
   ]
  },
  {
   "cell_type": "code",
   "execution_count": 8,
   "id": "dece3673",
   "metadata": {},
   "outputs": [
    {
     "data": {
      "image/png": "[encoded data removed]",
      "text/plain": [
       "<Figure size 1000x1000 with 1 Axes>"
      ]
     },
     "metadata": {},
     "output_type": "display_data"
    }
   ],
   "source": [
    "plt.figure(figsize=(10,10))\n",
    "plt.title('Confusion Matrix')\n",
    "sns.heatmap(matrix,annot=True,cmap='Blues',cbar=False)\n",
    "plt.xlabel('Predicted Label')\n",
    "plt.ylabel('Actual Label')\n",
    "plt.savefig('Resources/confusion_matrix_NB.png',dpi=400,bbox_inches='tight')"
   ]
  },
  {
   "cell_type": "code",
   "execution_count": 9,
   "id": "4302ff0f",
   "metadata": {},
   "outputs": [
    {
     "data": {
      "text/plain": [
       "['Resources/vectorizer.pkl']"
      ]
     },
     "execution_count": 9,
     "metadata": {},
     "output_type": "execute_result"
    }
   ],
   "source": [
    "import joblib\n",
    "\n",
    "# Saving the Model using joblib\n",
    "joblib.dump(clf,'Resources/naive_bayes.pkl')\n",
    "\n",
    "# saving the tfidf vectorizer using joblib\n",
    "joblib.dump(tfidf,'Resources/vectorizer.pkl')\n"
   ]
  },
  {
   "cell_type": "markdown",
   "id": "04734f72",
   "metadata": {},
   "source": [
    "## Reuse"
   ]
  },
  {
   "cell_type": "code",
   "execution_count": 10,
   "id": "b7bec7ca",
   "metadata": {},
   "outputs": [],
   "source": [
    "from nltk.stem import WordNetLemmatizer,PorterStemmer\n",
    "from nltk.corpus import stopwords\n",
    "\n",
    "import re\n",
    "\n",
    "#stopwords of english language\n",
    "stops=set(stopwords.words('english'))\n",
    "\n",
    "lemmatizer=WordNetLemmatizer()\n",
    "\n",
    "def clean_text(text):\n",
    "    # replacing all characters except alphabets with space\n",
    "    temp=re.sub('[^a-zA-Z]',' ',text)\n",
    "\n",
    "    # Lowering all the characters\n",
    "    temp=temp.lower()\n",
    "\n",
    "    # Splitting the sentences into set of words\n",
    "    temp=temp.split()\n",
    "\n",
    "    temp=[x for x in temp if x not in stops]\n",
    "    \n",
    "\n",
    "    # lemmatize the word if it is not present in stopwords\n",
    "    temp=[lemmatizer.lemmatize(word) for word in temp ]\n",
    "\n",
    "    #Joining the Lemmatized words with space\n",
    "    temp=' '.join(temp)\n",
    "\n",
    "    # Returning the cleaned sentences\n",
    "    return temp\n"
   ]
  },
  {
   "cell_type": "code",
   "execution_count": 11,
   "id": "9c18f099",
   "metadata": {},
   "outputs": [
    {
     "name": "stdout",
     "output_type": "stream",
     "text": [
      "False True\n"
     ]
    }
   ],
   "source": [
    "\n",
    "vectorizer=joblib.load('Resources/vectorizer.pkl')\n",
    "\n",
    "clf=joblib.load('Resources/Naive_Bayes.pkl')\n",
    "\n",
    "\n",
    "\n",
    "def predict_text(text):\n",
    "\n",
    "    if len(text)<=50:\n",
    "\n",
    "        return \"Please enter more words to get a prediction\"\n",
    "\n",
    "    # apply clean text function\n",
    "\n",
    "    text=clean_text(text)\n",
    "\n",
    "    text=[text]\n",
    "\n",
    "    \n",
    "    \n",
    "    \n",
    "    text=vectorizer.transform(text)\n",
    "    prediction=clf.predict_proba(text)\n",
    "    return prediction[0][1]>=0.2\n",
    "\n",
    "\n",
    "# Note: the model is trained on the data which is  cleaned and preprocessed. So, the input text should be in the same format as the data.\n",
    "#          You may use the clean_text function to clean the text before passing it to the model. (in the data_preprocessing notebook)\n",
    "# The text to be predicted should be adequete enough to be classified as either 'Ask HN' or 'Show HN'\n",
    "# The small text like 'Hi' or 'Hello' will not be classified properly.\n",
    "\n",
    "# Important Mail\n",
    "sample_email1=\"Subject Women in Tech | Google Developer Student Clubs KIIT Body: Hey folks! GDSC KIIT is back with another event and this time we're hosting Women in Tech. Join us for a fun-filled networking session where you get to learn from your peers and seniors to become the best female developer you can be! Date: 29th October Time: 2pm-6pm Venue: To be notified soon\"\n",
    "\n",
    "# Spam Mail\n",
    "sample_email2=\"Subject: futuresignals this message is being sent to you in compliance with the proposed federal legislation for commercial email ( s . 1618 - section 301 ) . http : / / www . senate . gov / ~ murkowski / commercialemail / emailamendtext . html \"\" pursuant to section 301 , paragraph ( a ) ( 2 ) ( c ) of s . 1618 , further transmissions to you by the sender of this email may be stopped at no cost to you by sending a reply to this email by following the directions below this message . = = = = = = = = = = = = = = = = = = = = = = = = = = = = = = = = = = = = = = = = = = = = = = = = = = = = = = = = attention futures traders receive real - time instant futuresignals over the internet by noted cta . futures traders , our service sends instant futuresignals via the internet as they are generated for the following markets : s&p 500 , nasdaq 100 , e - mini , unique futures trading opportunities . our futuresignals come with profit objectives for scalpers , daytraders and postion traders . we also issue trailing stops and important info we hear in the pits throughout the day . our service has been featured in futures magazine . for a free 3 day trial go to : http : / / www . bulkmate . com / futuresignals / http : / / www . bulkmate . com / futuresignals / futures trading involves risk . only use risk capital . please read cftc disclaimer on our website . to be removed from this list , simply send a blank email to : fsremove @ do-it - now . net note : it is not our intention to infiltrate or advertise to any investing / trading-related discussion groups . if this has been the case , our apologies and please follow the removal instructions above . sent from : futuresignals email : fs @ do-it - now . net address : po box 351 , verplanck , ny , 10596 telephone : 212-501 - 4281 \"\n",
    "\n",
    "print(predict_text(sample_email1),predict_text(sample_email2))"
   ]
  }
 ],
 "metadata": {
  "kernelspec": {
   "display_name": "Python 3.10.6 64-bit",
   "language": "python",
   "name": "python3"
  },
  "language_info": {
   "codemirror_mode": {
    "name": "ipython",
    "version": 3
   },
   "file_extension": ".py",
   "mimetype": "text/x-python",
   "name": "python",
   "nbconvert_exporter": "python",
   "pygments_lexer": "ipython3",
   "version": "3.10.6"
  },
  "vscode": {
   "interpreter": {
    "hash": "916dbcbb3f70747c44a77c7bcd40155683ae19c65e1c03b4aa3499c5328201f1"
   }
  }
 },
 "nbformat": 4,
 "nbformat_minor": 5
}
