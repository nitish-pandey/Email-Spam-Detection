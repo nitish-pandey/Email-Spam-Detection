{
 "cells": [
  {
   "cell_type": "markdown",
   "id": "6a70d881",
   "metadata": {},
   "source": [
    "## Table of Content:\n",
    "\n",
    "1. Importing the libraries and dataset\n",
    "2. Data Preprocessing and Feature Engineering\n",
    "3. Building the RNN\n",
    "4. Making the predictions and visualising the results\n",
    "\n"
   ]
  },
  {
   "cell_type": "markdown",
   "id": "70063984",
   "metadata": {},
   "source": [
    "## 1. Importing the libraries and dataset"
   ]
  },
  {
   "cell_type": "code",
   "execution_count": 1,
   "id": "c8f6d360",
   "metadata": {},
   "outputs": [],
   "source": [
    "import pandas as pd\n",
    "import numpy as np\n",
    "import matplotlib.pyplot as plt\n",
    "import seaborn as sns\n",
    "\n",
    "\n",
    "import json\n",
    "import pickle\n",
    "import joblib"
   ]
  },
  {
   "cell_type": "code",
   "execution_count": 3,
   "id": "aa620f3c",
   "metadata": {},
   "outputs": [],
   "source": [
    "import tensorflow as tf\n",
    "from tensorflow.keras.preprocessing.sequence import TimeseriesGenerator\n",
    "from tensorflow.keras.models import Sequential\n",
    "\n",
    "# import pad sequence\n",
    "from tensorflow.keras.preprocessing.sequence import pad_sequences\n",
    "\n",
    "from tensorflow.keras.layers import Dense, LSTM, Dropout\n",
    "from tensorflow.keras.preprocessing.text import Tokenizer\n",
    "\n",
    "from tensorflow.keras.layers import Embedding\n",
    "\n",
    "\n",
    "\n",
    "from sklearn.metrics import classification_report\n",
    "from sklearn.metrics import confusion_matrix"
   ]
  },
  {
   "cell_type": "code",
   "execution_count": 4,
   "id": "797f6fab",
   "metadata": {},
   "outputs": [
    {
     "data": {
      "text/html": [
       "<div>\n",
       "<style scoped>\n",
       "    .dataframe tbody tr th:only-of-type {\n",
       "        vertical-align: middle;\n",
       "    }\n",
       "\n",
       "    .dataframe tbody tr th {\n",
       "        vertical-align: top;\n",
       "    }\n",
       "\n",
       "    .dataframe thead th {\n",
       "        text-align: right;\n",
       "    }\n",
       "</style>\n",
       "<table border=\"1\" class=\"dataframe\">\n",
       "  <thead>\n",
       "    <tr style=\"text-align: right;\">\n",
       "      <th></th>\n",
       "      <th>Body</th>\n",
       "      <th>Label</th>\n",
       "    </tr>\n",
       "  </thead>\n",
       "  <tbody>\n",
       "    <tr>\n",
       "      <th>0</th>\n",
       "      <td>save life insurance spend life quote saving en...</td>\n",
       "      <td>1</td>\n",
       "    </tr>\n",
       "    <tr>\n",
       "      <th>1</th>\n",
       "      <td>fight risk cancer http www adclick w p cfm pk ...</td>\n",
       "      <td>1</td>\n",
       "    </tr>\n",
       "    <tr>\n",
       "      <th>2</th>\n",
       "      <td>fight risk cancer http www adclick w p cfm pk ...</td>\n",
       "      <td>1</td>\n",
       "    </tr>\n",
       "    <tr>\n",
       "      <th>3</th>\n",
       "      <td>adult club offer free membership instant acces...</td>\n",
       "      <td>1</td>\n",
       "    </tr>\n",
       "    <tr>\n",
       "      <th>4</th>\n",
       "      <td>thought might like slim guaranteed lose lb day...</td>\n",
       "      <td>1</td>\n",
       "    </tr>\n",
       "  </tbody>\n",
       "</table>\n",
       "</div>"
      ],
      "text/plain": [
       "                                                Body  Label\n",
       "0  save life insurance spend life quote saving en...      1\n",
       "1  fight risk cancer http www adclick w p cfm pk ...      1\n",
       "2  fight risk cancer http www adclick w p cfm pk ...      1\n",
       "3  adult club offer free membership instant acces...      1\n",
       "4  thought might like slim guaranteed lose lb day...      1"
      ]
     },
     "execution_count": 4,
     "metadata": {},
     "output_type": "execute_result"
    }
   ],
   "source": [
    "data=pd.read_csv(\"Resources/prepared_data1.csv\")\n",
    "data.fillna('',inplace=True)\n",
    "data.head()\n"
   ]
  },
  {
   "cell_type": "markdown",
   "id": "20c137bd",
   "metadata": {},
   "source": [
    "## 2. Data Preprocessing and Feature Engineering"
   ]
  },
  {
   "cell_type": "code",
   "execution_count": 17,
   "id": "9d3476ae",
   "metadata": {},
   "outputs": [
    {
     "name": "stdout",
     "output_type": "stream",
     "text": [
      "5293 5293\n"
     ]
    }
   ],
   "source": [
    "texts=list(data['Body'])\n",
    "labels=list(data['Label'].astype(bool))\n",
    "\n",
    "\n",
    "print(len(texts),len(labels))"
   ]
  },
  {
   "cell_type": "code",
   "execution_count": 18,
   "id": "1e282515",
   "metadata": {},
   "outputs": [
    {
     "name": "stdout",
     "output_type": "stream",
     "text": [
      "No. of 0 labels: 3915\n",
      "No. of 1 labels: 1378\n"
     ]
    }
   ],
   "source": [
    "print(\"No. of 0 labels:\",labels.count(0))\n",
    "print(\"No. of 1 labels:\",labels.count(1))"
   ]
  },
  {
   "cell_type": "code",
   "execution_count": 20,
   "id": "133466be",
   "metadata": {},
   "outputs": [
    {
     "name": "stdout",
     "output_type": "stream",
     "text": [
      "Found 61499 unique tokens.\n"
     ]
    }
   ],
   "source": [
    "# Maximal length of the text\n",
    "maxlen=100\n",
    "\n",
    "# Maximal number of words to be used\n",
    "max_words=10000\n",
    "\n",
    "# instantiate tokenizer\n",
    "tokenizer = Tokenizer()\n",
    "\n",
    "# fit tokenizer on text\n",
    "tokenizer.fit_on_texts(texts)\n",
    "\n",
    "# create sequences\n",
    "sequences = tokenizer.texts_to_sequences(texts)\n",
    "\n",
    "# create word index\n",
    "word_index = tokenizer.word_index\n",
    "\n",
    "# create reverse word index\n",
    "reverse_word_index = dict([(value, key) for (key, value) in word_index.items()])\n",
    "\n",
    "\n",
    "print('Found %s unique tokens.' % len(word_index))\n"
   ]
  },
  {
   "cell_type": "code",
   "execution_count": 21,
   "id": "40da194f",
   "metadata": {},
   "outputs": [
    {
     "name": "stdout",
     "output_type": "stream",
     "text": [
      "Shape of training data tensor: (4234, 100)\n",
      "Shape of training label tensor: (4234,)\n",
      "Shape of testing data tensor: (1059, 100)\n",
      "Shape of testing label tensor: (1059,)\n"
     ]
    }
   ],
   "source": [
    "\n",
    "# pad sequences\n",
    "padded = pad_sequences(sequences, maxlen=maxlen, padding='post', truncating='post')\n",
    "\n",
    "\n",
    "# split data into training and testing\n",
    "split = int(0.8 * len(texts))\n",
    "\n",
    "train_sequences = padded[:split]\n",
    "test_sequences = padded[split:]\n",
    "\n",
    "train_labels = np.asarray(labels[:split])\n",
    "test_labels = np.asarray(labels[split:])\n",
    "\n",
    "\n",
    "\n",
    "print('Shape of training data tensor:', train_sequences.shape)\n",
    "print('Shape of training label tensor:', train_labels.shape)\n",
    "print('Shape of testing data tensor:', test_sequences.shape)\n",
    "print('Shape of testing label tensor:', test_labels.shape)\n",
    "\n"
   ]
  },
  {
   "cell_type": "markdown",
   "id": "00702e78",
   "metadata": {},
   "source": [
    "## 3. Building the RNN"
   ]
  },
  {
   "cell_type": "code",
   "execution_count": 25,
   "id": "c84aab26",
   "metadata": {},
   "outputs": [
    {
     "name": "stdout",
     "output_type": "stream",
     "text": [
      "Model: \"sequential_5\"\n",
      "_________________________________________________________________\n",
      " Layer (type)                Output Shape              Param #   \n",
      "=================================================================\n",
      " embedding_4 (Embedding)     (None, None, 32)          1968000   \n",
      "                                                                 \n",
      " lstm_6 (LSTM)               (None, 32)                8320      \n",
      "                                                                 \n",
      " dense_4 (Dense)             (None, 1)                 33        \n",
      "                                                                 \n",
      "=================================================================\n",
      "Total params: 1,976,353\n",
      "Trainable params: 1,976,353\n",
      "Non-trainable params: 0\n",
      "_________________________________________________________________\n"
     ]
    }
   ],
   "source": [
    "\n",
    "# parameters\n",
    "\n",
    "vocab_size = len(word_index) + 1\n",
    "embedding_dim = 32\n",
    "\n",
    "# create model\n",
    "\n",
    "# instantiate model\n",
    "model = Sequential()\n",
    "\n",
    "\n",
    "# add embedding layer\n",
    "model.add(Embedding(vocab_size, embedding_dim))\n",
    "\n",
    "# add LSTM layer\n",
    "model.add(LSTM(32))\n",
    "\n",
    "# add dense layer\n",
    "model.add(Dense(1, activation='sigmoid'))\n",
    "\n",
    "# model summary\n",
    "model.summary()\n"
   ]
  },
  {
   "cell_type": "code",
   "execution_count": 26,
   "id": "1903e8cf",
   "metadata": {},
   "outputs": [],
   "source": [
    "\n",
    "# compile model\n",
    "model.compile(loss='binary_crossentropy', optimizer='adam', metrics=['accuracy'])\n"
   ]
  },
  {
   "cell_type": "code",
   "execution_count": 27,
   "id": "7f84491c",
   "metadata": {},
   "outputs": [
    {
     "name": "stdout",
     "output_type": "stream",
     "text": [
      "Epoch 1/10\n",
      "133/133 - 8s - loss: 0.4212 - accuracy: 0.8125 - val_loss: 0.4585 - val_accuracy: 0.8414 - 8s/epoch - 59ms/step\n",
      "Epoch 2/10\n",
      "133/133 - 6s - loss: 0.1760 - accuracy: 0.9570 - val_loss: 0.3799 - val_accuracy: 0.8754 - 6s/epoch - 44ms/step\n",
      "Epoch 3/10\n",
      "133/133 - 6s - loss: 0.1734 - accuracy: 0.9575 - val_loss: 0.3889 - val_accuracy: 0.8857 - 6s/epoch - 43ms/step\n",
      "Epoch 4/10\n",
      "133/133 - 6s - loss: 0.1399 - accuracy: 0.9660 - val_loss: 0.4878 - val_accuracy: 0.8517 - 6s/epoch - 44ms/step\n",
      "Epoch 5/10\n",
      "133/133 - 6s - loss: 0.0979 - accuracy: 0.9771 - val_loss: 0.3855 - val_accuracy: 0.8744 - 6s/epoch - 44ms/step\n",
      "Epoch 6/10\n",
      "133/133 - 6s - loss: 0.0858 - accuracy: 0.9813 - val_loss: 0.2569 - val_accuracy: 0.9169 - 6s/epoch - 45ms/step\n",
      "Epoch 7/10\n",
      "133/133 - 6s - loss: 0.0366 - accuracy: 0.9936 - val_loss: 0.4567 - val_accuracy: 0.8678 - 6s/epoch - 45ms/step\n",
      "Epoch 8/10\n",
      "133/133 - 6s - loss: 0.0236 - accuracy: 0.9965 - val_loss: 0.5400 - val_accuracy: 0.8574 - 6s/epoch - 44ms/step\n",
      "Epoch 9/10\n",
      "133/133 - 6s - loss: 0.0188 - accuracy: 0.9972 - val_loss: 0.6141 - val_accuracy: 0.8536 - 6s/epoch - 44ms/step\n",
      "Epoch 10/10\n",
      "133/133 - 6s - loss: 0.0170 - accuracy: 0.9976 - val_loss: 0.6359 - val_accuracy: 0.8555 - 6s/epoch - 47ms/step\n"
     ]
    }
   ],
   "source": [
    "# fit model\n",
    "\n",
    "history = model.fit(train_sequences, train_labels,\n",
    "        epochs=10, \n",
    "        validation_data=(test_sequences, test_labels), \n",
    "        verbose=2,\n",
    "        batch_size=32\n",
    "        \n",
    "        )"
   ]
  },
  {
   "cell_type": "markdown",
   "id": "76fdec7e",
   "metadata": {},
   "source": [
    "## 4. Making the predictions and visualising the results"
   ]
  },
  {
   "cell_type": "code",
   "execution_count": 28,
   "id": "d1884045",
   "metadata": {},
   "outputs": [
    {
     "data": {
      "image/png": "[encoded data removed]",
      "text/plain": [
       "<Figure size 640x480 with 1 Axes>"
      ]
     },
     "metadata": {},
     "output_type": "display_data"
    }
   ],
   "source": [
    "\n",
    "\n",
    "# plot training and validation accuracy\n",
    "\n",
    "plt.plot(history.history['accuracy'])\n",
    "plt.plot(history.history['val_accuracy'])\n",
    "plt.title('Model Accuracy')\n",
    "plt.ylabel('Accuracy')\n",
    "plt.xlabel('Epoch')\n",
    "plt.legend(['Train', 'Test'], loc='upper left')\n",
    "plt.show()\n",
    "\n",
    "\n",
    "\n"
   ]
  },
  {
   "cell_type": "code",
   "execution_count": 29,
   "id": "63f353d2",
   "metadata": {},
   "outputs": [
    {
     "data": {
      "image/png": "[encoded data removed]",
      "text/plain": [
       "<Figure size 640x480 with 1 Axes>"
      ]
     },
     "metadata": {},
     "output_type": "display_data"
    }
   ],
   "source": [
    "# plot training and validation loss\n",
    "\n",
    "plt.plot(history.history['loss'])\n",
    "plt.plot(history.history['val_loss'])\n",
    "plt.title('Model Loss')\n",
    "plt.ylabel('Loss')\n",
    "plt.xlabel('Epoch')\n",
    "plt.legend(['Train', 'Test'], loc='upper left')\n",
    "plt.show()\n",
    "\n"
   ]
  },
  {
   "cell_type": "code",
   "execution_count": 30,
   "id": "aadbeac0",
   "metadata": {},
   "outputs": [
    {
     "name": "stdout",
     "output_type": "stream",
     "text": [
      "Accuracy: 85.552406\n",
      "34/34 [==============================] - 1s 12ms/step\n",
      "[[0.00530069]\n",
      " [0.00385   ]\n",
      " [0.99621433]\n",
      " [0.00279933]\n",
      " [0.00272117]\n",
      " [0.9962149 ]\n",
      " [0.0027982 ]\n",
      " [0.00298221]\n",
      " [0.00356902]\n",
      " [0.00970907]]\n",
      "[False False False False False False False False False False]\n"
     ]
    }
   ],
   "source": [
    "\n",
    "# evaluate model\n",
    "loss, accuracy = model.evaluate(test_sequences, test_labels, verbose=0)\n",
    "print('Accuracy: %f' % (accuracy*100))\n",
    "\n",
    "# make predictions\n",
    "predictions = model.predict(test_sequences)\n",
    "\n",
    "# print predictions\n",
    "print(predictions[:10])\n",
    "\n",
    "# print actual values\n",
    "print(test_labels[:10])\n",
    "\n"
   ]
  },
  {
   "cell_type": "code",
   "execution_count": 31,
   "id": "63b6f77f",
   "metadata": {},
   "outputs": [
    {
     "name": "stdout",
     "output_type": "stream",
     "text": [
      "[[906 153]\n",
      " [  0   0]]\n"
     ]
    }
   ],
   "source": [
    "\n",
    "# print confusion matrix\n",
    "cm = confusion_matrix(test_labels, predictions.round())\n",
    "print(cm)\n"
   ]
  },
  {
   "cell_type": "code",
   "execution_count": 32,
   "id": "e5ac04d7",
   "metadata": {},
   "outputs": [
    {
     "data": {
      "image/png": "[encoded data removed]",
      "text/plain": [
       "<Figure size 640x480 with 2 Axes>"
      ]
     },
     "metadata": {},
     "output_type": "display_data"
    }
   ],
   "source": [
    "# plot confusion matrix\n",
    "sns.heatmap(cm, annot=True, fmt='d')\n",
    "plt.show()\n"
   ]
  },
  {
   "cell_type": "code",
   "execution_count": 33,
   "id": "4b446b41",
   "metadata": {},
   "outputs": [
    {
     "name": "stdout",
     "output_type": "stream",
     "text": [
      "              precision    recall  f1-score   support\n",
      "\n",
      "         0.0       1.00      0.86      0.92      1059\n",
      "         1.0       0.00      0.00      0.00         0\n",
      "\n",
      "    accuracy                           0.86      1059\n",
      "   macro avg       0.50      0.43      0.46      1059\n",
      "weighted avg       1.00      0.86      0.92      1059\n",
      "\n"
     ]
    },
    {
     "name": "stderr",
     "output_type": "stream",
     "text": [
      "/home/nitish/.local/lib/python3.10/site-packages/sklearn/metrics/_classification.py:1334: UndefinedMetricWarning: Recall and F-score are ill-defined and being set to 0.0 in labels with no true samples. Use `zero_division` parameter to control this behavior.\n",
      "  _warn_prf(average, modifier, msg_start, len(result))\n",
      "/home/nitish/.local/lib/python3.10/site-packages/sklearn/metrics/_classification.py:1334: UndefinedMetricWarning: Recall and F-score are ill-defined and being set to 0.0 in labels with no true samples. Use `zero_division` parameter to control this behavior.\n",
      "  _warn_prf(average, modifier, msg_start, len(result))\n",
      "/home/nitish/.local/lib/python3.10/site-packages/sklearn/metrics/_classification.py:1334: UndefinedMetricWarning: Recall and F-score are ill-defined and being set to 0.0 in labels with no true samples. Use `zero_division` parameter to control this behavior.\n",
      "  _warn_prf(average, modifier, msg_start, len(result))\n"
     ]
    }
   ],
   "source": [
    "# print classification report\n",
    "print(classification_report(test_labels, predictions.round()))"
   ]
  },
  {
   "cell_type": "code",
   "execution_count": null,
   "id": "30e2927c",
   "metadata": {},
   "outputs": [],
   "source": [
    "# Saving the model\n",
    "\n",
    "model.save(\"Resources/RNN_model.h5\")\n",
    "\n",
    "# Saving the tokenizer\n",
    "\n",
    "with open('Resources/tokenizer.pickle', 'wb') as handle:\n",
    "    pickle.dump(tokenizer, handle, protocol=pickle.HIGHEST_PROTOCOL)\n",
    "\n",
    "# Saving the word index\n",
    "\n",
    "with open('Resources/word_index.json', 'w') as fp:\n",
    "    json.dump(word_index, fp)\n",
    "\n",
    "# Saving the reverse word index\n",
    "\n",
    "with open('Resources/reverse_word_index.json', 'w') as fp:\n",
    "    json.dump(reverse_word_index, fp)\n"
   ]
  }
 ],
 "metadata": {
  "kernelspec": {
   "display_name": "Python 3.10.6 64-bit",
   "language": "python",
   "name": "python3"
  },
  "language_info": {
   "codemirror_mode": {
    "name": "ipython",
    "version": 3
   },
   "file_extension": ".py",
   "mimetype": "text/x-python",
   "name": "python",
   "nbconvert_exporter": "python",
   "pygments_lexer": "ipython3",
   "version": "3.10.6"
  },
  "vscode": {
   "interpreter": {
    "hash": "916dbcbb3f70747c44a77c7bcd40155683ae19c65e1c03b4aa3499c5328201f1"
   }
  }
 },
 "nbformat": 4,
 "nbformat_minor": 5
}
