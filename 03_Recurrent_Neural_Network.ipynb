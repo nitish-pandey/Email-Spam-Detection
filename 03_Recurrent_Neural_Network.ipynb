{
 "cells": [
  {
   "cell_type": "markdown",
   "id": "6a70d881",
   "metadata": {},
   "source": [
    "## Table of Content:\n",
    "\n",
    "1. Importing the libraries and dataset\n",
    "2. Data Preprocessing and Feature Engineering\n",
    "3. Building the RNN\n",
    "4. Making the predictions and visualising the results\n",
    "\n"
   ]
  },
  {
   "cell_type": "markdown",
   "id": "70063984",
   "metadata": {},
   "source": [
    "## 1. Importing the libraries and dataset"
   ]
  },
  {
   "cell_type": "code",
   "execution_count": 1,
   "id": "c8f6d360",
   "metadata": {},
   "outputs": [],
   "source": [
    "import pandas as pd\n",
    "import numpy as np\n",
    "import matplotlib.pyplot as plt\n",
    "import seaborn as sns\n",
    "\n",
    "\n",
    "import json\n",
    "import pickle\n",
    "import joblib"
   ]
  },
  {
   "cell_type": "code",
   "execution_count": 2,
   "id": "aa620f3c",
   "metadata": {},
   "outputs": [
    {
     "name": "stderr",
     "output_type": "stream",
     "text": [
      "2022-10-18 22:11:36.874433: I tensorflow/core/platform/cpu_feature_guard.cc:193] This TensorFlow binary is optimized with oneAPI Deep Neural Network Library (oneDNN) to use the following CPU instructions in performance-critical operations:  AVX2 AVX512F AVX512_VNNI FMA\n",
      "To enable them in other operations, rebuild TensorFlow with the appropriate compiler flags.\n",
      "2022-10-18 22:11:37.248398: I tensorflow/core/util/util.cc:169] oneDNN custom operations are on. You may see slightly different numerical results due to floating-point round-off errors from different computation orders. To turn them off, set the environment variable `TF_ENABLE_ONEDNN_OPTS=0`.\n",
      "2022-10-18 22:11:37.321345: W tensorflow/stream_executor/platform/default/dso_loader.cc:64] Could not load dynamic library 'libcudart.so.11.0'; dlerror: libcudart.so.11.0: cannot open shared object file: No such file or directory\n",
      "2022-10-18 22:11:37.321392: I tensorflow/stream_executor/cuda/cudart_stub.cc:29] Ignore above cudart dlerror if you do not have a GPU set up on your machine.\n",
      "2022-10-18 22:11:37.398049: E tensorflow/stream_executor/cuda/cuda_blas.cc:2981] Unable to register cuBLAS factory: Attempting to register factory for plugin cuBLAS when one has already been registered\n",
      "2022-10-18 22:11:38.550721: W tensorflow/stream_executor/platform/default/dso_loader.cc:64] Could not load dynamic library 'libnvinfer.so.7'; dlerror: libnvinfer.so.7: cannot open shared object file: No such file or directory\n",
      "2022-10-18 22:11:38.550809: W tensorflow/stream_executor/platform/default/dso_loader.cc:64] Could not load dynamic library 'libnvinfer_plugin.so.7'; dlerror: libnvinfer_plugin.so.7: cannot open shared object file: No such file or directory\n",
      "2022-10-18 22:11:38.550817: W tensorflow/compiler/tf2tensorrt/utils/py_utils.cc:38] TF-TRT Warning: Cannot dlopen some TensorRT libraries. If you would like to use Nvidia GPU with TensorRT, please make sure the missing libraries mentioned above are installed properly.\n"
     ]
    }
   ],
   "source": [
    "import tensorflow as tf\n",
    "from tensorflow import keras\n",
    "from keras.preprocessing.sequence import TimeseriesGenerator\n",
    "from keras.models import Sequential\n",
    "\n",
    "# import pad sequence\n",
    "from keras_preprocessing.sequence import pad_sequences\n",
    "\n",
    "from keras.layers import Dense, LSTM, Dropout\n",
    "from keras.preprocessing.text import Tokenizer\n",
    "\n",
    "from keras.layers import Embedding\n",
    "\n",
    "\n",
    "\n",
    "from sklearn.metrics import classification_report\n",
    "from sklearn.metrics import confusion_matrix"
   ]
  },
  {
   "cell_type": "code",
   "execution_count": 3,
   "id": "797f6fab",
   "metadata": {},
   "outputs": [
    {
     "data": {
      "text/html": [
       "<div>\n",
       "<style scoped>\n",
       "    .dataframe tbody tr th:only-of-type {\n",
       "        vertical-align: middle;\n",
       "    }\n",
       "\n",
       "    .dataframe tbody tr th {\n",
       "        vertical-align: top;\n",
       "    }\n",
       "\n",
       "    .dataframe thead th {\n",
       "        text-align: right;\n",
       "    }\n",
       "</style>\n",
       "<table border=\"1\" class=\"dataframe\">\n",
       "  <thead>\n",
       "    <tr style=\"text-align: right;\">\n",
       "      <th></th>\n",
       "      <th>Body</th>\n",
       "      <th>Label</th>\n",
       "    </tr>\n",
       "  </thead>\n",
       "  <tbody>\n",
       "    <tr>\n",
       "      <th>0</th>\n",
       "      <td>save life insurance spend life quote saving en...</td>\n",
       "      <td>1</td>\n",
       "    </tr>\n",
       "    <tr>\n",
       "      <th>1</th>\n",
       "      <td>fight risk cancer http www adclick w p cfm pk ...</td>\n",
       "      <td>1</td>\n",
       "    </tr>\n",
       "    <tr>\n",
       "      <th>2</th>\n",
       "      <td>fight risk cancer http www adclick w p cfm pk ...</td>\n",
       "      <td>1</td>\n",
       "    </tr>\n",
       "    <tr>\n",
       "      <th>3</th>\n",
       "      <td>adult club offer free membership instant acces...</td>\n",
       "      <td>1</td>\n",
       "    </tr>\n",
       "    <tr>\n",
       "      <th>4</th>\n",
       "      <td>thought might like slim guaranteed lose lb day...</td>\n",
       "      <td>1</td>\n",
       "    </tr>\n",
       "  </tbody>\n",
       "</table>\n",
       "</div>"
      ],
      "text/plain": [
       "                                                Body  Label\n",
       "0  save life insurance spend life quote saving en...      1\n",
       "1  fight risk cancer http www adclick w p cfm pk ...      1\n",
       "2  fight risk cancer http www adclick w p cfm pk ...      1\n",
       "3  adult club offer free membership instant acces...      1\n",
       "4  thought might like slim guaranteed lose lb day...      1"
      ]
     },
     "execution_count": 3,
     "metadata": {},
     "output_type": "execute_result"
    }
   ],
   "source": [
    "data=pd.read_csv(\"Resources/prepared_data1.csv\")\n",
    "data.fillna('',inplace=True)\n",
    "data.head()\n"
   ]
  },
  {
   "cell_type": "markdown",
   "id": "20c137bd",
   "metadata": {},
   "source": [
    "## 2. Data Preprocessing and Feature Engineering"
   ]
  },
  {
   "cell_type": "code",
   "execution_count": 4,
   "id": "9d3476ae",
   "metadata": {},
   "outputs": [
    {
     "name": "stdout",
     "output_type": "stream",
     "text": [
      "5293 5293\n"
     ]
    }
   ],
   "source": [
    "texts=list(data['Body'])\n",
    "labels=list(data['Label'].astype(bool))\n",
    "\n",
    "\n",
    "print(len(texts),len(labels))"
   ]
  },
  {
   "cell_type": "code",
   "execution_count": 5,
   "id": "1e282515",
   "metadata": {},
   "outputs": [
    {
     "name": "stdout",
     "output_type": "stream",
     "text": [
      "No. of 0 labels: 3915\n",
      "No. of 1 labels: 1378\n"
     ]
    }
   ],
   "source": [
    "print(\"No. of 0 labels:\",labels.count(0))\n",
    "print(\"No. of 1 labels:\",labels.count(1))"
   ]
  },
  {
   "cell_type": "code",
   "execution_count": 6,
   "id": "133466be",
   "metadata": {},
   "outputs": [
    {
     "name": "stdout",
     "output_type": "stream",
     "text": [
      "Found 61499 unique tokens.\n"
     ]
    }
   ],
   "source": [
    "# Maximal length of the text\n",
    "maxlen=100\n",
    "\n",
    "# Maximal number of words to be used\n",
    "max_words=10000\n",
    "\n",
    "# instantiate tokenizer\n",
    "tokenizer = Tokenizer()\n",
    "\n",
    "# fit tokenizer on text\n",
    "tokenizer.fit_on_texts(texts)\n",
    "\n",
    "# create sequences\n",
    "sequences = tokenizer.texts_to_sequences(texts)\n",
    "\n",
    "# create word index\n",
    "word_index = tokenizer.word_index\n",
    "\n",
    "# create reverse word index\n",
    "reverse_word_index = dict([(value, key) for (key, value) in word_index.items()])\n",
    "\n",
    "\n",
    "print('Found %s unique tokens.' % len(word_index))\n"
   ]
  },
  {
   "cell_type": "code",
   "execution_count": 7,
   "id": "40da194f",
   "metadata": {},
   "outputs": [
    {
     "name": "stdout",
     "output_type": "stream",
     "text": [
      "Shape of training data tensor: (4234, 100)\n",
      "Shape of training label tensor: (4234,)\n",
      "Shape of testing data tensor: (1059, 100)\n",
      "Shape of testing label tensor: (1059,)\n"
     ]
    }
   ],
   "source": [
    "\n",
    "# pad sequences\n",
    "padded = pad_sequences(sequences, maxlen=maxlen, padding='post', truncating='post')\n",
    "\n",
    "\n",
    "# split data into training and testing\n",
    "split = int(0.8 * len(texts))\n",
    "\n",
    "\n",
    "# shuffle data\n",
    "indices = np.arange(padded.shape[0])\n",
    "np.random.shuffle(indices)\n",
    "padded = padded[indices]\n",
    "\n",
    "labels = np.asarray(labels)\n",
    "labels = labels[indices]\n",
    "\n",
    "# split data into training and testing\n",
    "\n",
    "train_sequences = padded[:split]\n",
    "test_sequences = padded[split:]\n",
    "\n",
    "train_labels = np.asarray(labels[:split])\n",
    "test_labels = np.asarray(labels[split:])\n",
    "\n",
    "\n",
    "\n",
    "print('Shape of training data tensor:', train_sequences.shape)\n",
    "print('Shape of training label tensor:', train_labels.shape)\n",
    "print('Shape of testing data tensor:', test_sequences.shape)\n",
    "print('Shape of testing label tensor:', test_labels.shape)\n",
    "\n"
   ]
  },
  {
   "cell_type": "markdown",
   "id": "00702e78",
   "metadata": {},
   "source": [
    "## 3. Building the RNN"
   ]
  },
  {
   "cell_type": "code",
   "execution_count": 8,
   "id": "c84aab26",
   "metadata": {},
   "outputs": [
    {
     "name": "stderr",
     "output_type": "stream",
     "text": [
      "2022-10-18 22:11:50.436573: I tensorflow/stream_executor/cuda/cuda_gpu_executor.cc:980] successful NUMA node read from SysFS had negative value (-1), but there must be at least one NUMA node, so returning NUMA node zero\n",
      "2022-10-18 22:11:50.437081: W tensorflow/stream_executor/platform/default/dso_loader.cc:64] Could not load dynamic library 'libcudart.so.11.0'; dlerror: libcudart.so.11.0: cannot open shared object file: No such file or directory\n",
      "2022-10-18 22:11:50.437210: W tensorflow/stream_executor/platform/default/dso_loader.cc:64] Could not load dynamic library 'libcublas.so.11'; dlerror: libcublas.so.11: cannot open shared object file: No such file or directory\n",
      "2022-10-18 22:11:50.437312: W tensorflow/stream_executor/platform/default/dso_loader.cc:64] Could not load dynamic library 'libcublasLt.so.11'; dlerror: libcublasLt.so.11: cannot open shared object file: No such file or directory\n",
      "2022-10-18 22:11:50.437409: W tensorflow/stream_executor/platform/default/dso_loader.cc:64] Could not load dynamic library 'libcufft.so.10'; dlerror: libcufft.so.10: cannot open shared object file: No such file or directory\n",
      "2022-10-18 22:11:50.437506: W tensorflow/stream_executor/platform/default/dso_loader.cc:64] Could not load dynamic library 'libcurand.so.10'; dlerror: libcurand.so.10: cannot open shared object file: No such file or directory\n",
      "2022-10-18 22:11:50.437601: W tensorflow/stream_executor/platform/default/dso_loader.cc:64] Could not load dynamic library 'libcusolver.so.11'; dlerror: libcusolver.so.11: cannot open shared object file: No such file or directory\n",
      "2022-10-18 22:11:50.437692: W tensorflow/stream_executor/platform/default/dso_loader.cc:64] Could not load dynamic library 'libcusparse.so.11'; dlerror: libcusparse.so.11: cannot open shared object file: No such file or directory\n",
      "2022-10-18 22:11:50.437784: W tensorflow/stream_executor/platform/default/dso_loader.cc:64] Could not load dynamic library 'libcudnn.so.8'; dlerror: libcudnn.so.8: cannot open shared object file: No such file or directory\n",
      "2022-10-18 22:11:50.437800: W tensorflow/core/common_runtime/gpu/gpu_device.cc:1934] Cannot dlopen some GPU libraries. Please make sure the missing libraries mentioned above are installed properly if you would like to use GPU. Follow the guide at https://www.tensorflow.org/install/gpu for how to download and setup the required libraries for your platform.\n",
      "Skipping registering GPU devices...\n",
      "2022-10-18 22:11:50.438648: I tensorflow/core/platform/cpu_feature_guard.cc:193] This TensorFlow binary is optimized with oneAPI Deep Neural Network Library (oneDNN) to use the following CPU instructions in performance-critical operations:  AVX2 AVX512F AVX512_VNNI FMA\n",
      "To enable them in other operations, rebuild TensorFlow with the appropriate compiler flags.\n"
     ]
    },
    {
     "name": "stdout",
     "output_type": "stream",
     "text": [
      "Model: \"sequential\"\n",
      "_________________________________________________________________\n",
      " Layer (type)                Output Shape              Param #   \n",
      "=================================================================\n",
      " embedding (Embedding)       (None, None, 32)          1968000   \n",
      "                                                                 \n",
      " lstm (LSTM)                 (None, 32)                8320      \n",
      "                                                                 \n",
      " dense (Dense)               (None, 1)                 33        \n",
      "                                                                 \n",
      "=================================================================\n",
      "Total params: 1,976,353\n",
      "Trainable params: 1,976,353\n",
      "Non-trainable params: 0\n",
      "_________________________________________________________________\n"
     ]
    }
   ],
   "source": [
    "\n",
    "# parameters\n",
    "\n",
    "vocab_size = len(word_index) + 1\n",
    "embedding_dim = 32\n",
    "\n",
    "# create model\n",
    "\n",
    "# instantiate model\n",
    "model = Sequential()\n",
    "\n",
    "\n",
    "# add embedding layer\n",
    "model.add(Embedding(vocab_size, embedding_dim))\n",
    "\n",
    "# add LSTM layer\n",
    "model.add(LSTM(32))\n",
    "\n",
    "# add dense layer\n",
    "model.add(Dense(1, activation='sigmoid'))\n",
    "\n",
    "# model summary\n",
    "model.summary()\n"
   ]
  },
  {
   "cell_type": "code",
   "execution_count": 9,
   "id": "1903e8cf",
   "metadata": {},
   "outputs": [],
   "source": [
    "\n",
    "# compile model\n",
    "model.compile(loss='binary_crossentropy', optimizer='adam', metrics=['accuracy'])\n"
   ]
  },
  {
   "cell_type": "code",
   "execution_count": 10,
   "id": "7f84491c",
   "metadata": {},
   "outputs": [
    {
     "name": "stdout",
     "output_type": "stream",
     "text": [
      "Epoch 1/10\n",
      "133/133 - 9s - loss: 0.4350 - accuracy: 0.8224 - val_loss: 0.2635 - val_accuracy: 0.9263 - 9s/epoch - 65ms/step\n",
      "Epoch 2/10\n",
      "133/133 - 6s - loss: 0.2391 - accuracy: 0.9346 - val_loss: 0.2543 - val_accuracy: 0.9282 - 6s/epoch - 45ms/step\n",
      "Epoch 3/10\n",
      "133/133 - 6s - loss: 0.2112 - accuracy: 0.9426 - val_loss: 0.2369 - val_accuracy: 0.9330 - 6s/epoch - 47ms/step\n",
      "Epoch 4/10\n",
      "133/133 - 6s - loss: 0.1797 - accuracy: 0.9528 - val_loss: 0.1931 - val_accuracy: 0.9500 - 6s/epoch - 46ms/step\n",
      "Epoch 5/10\n",
      "133/133 - 6s - loss: 0.3134 - accuracy: 0.9025 - val_loss: 0.1910 - val_accuracy: 0.9679 - 6s/epoch - 47ms/step\n",
      "Epoch 6/10\n",
      "133/133 - 6s - loss: 0.0902 - accuracy: 0.9839 - val_loss: 0.1186 - val_accuracy: 0.9679 - 6s/epoch - 44ms/step\n",
      "Epoch 7/10\n",
      "133/133 - 6s - loss: 0.0486 - accuracy: 0.9910 - val_loss: 0.1181 - val_accuracy: 0.9688 - 6s/epoch - 45ms/step\n",
      "Epoch 8/10\n",
      "133/133 - 7s - loss: 0.0321 - accuracy: 0.9946 - val_loss: 0.1146 - val_accuracy: 0.9736 - 7s/epoch - 51ms/step\n",
      "Epoch 9/10\n",
      "133/133 - 6s - loss: 0.0233 - accuracy: 0.9967 - val_loss: 0.1209 - val_accuracy: 0.9726 - 6s/epoch - 46ms/step\n",
      "Epoch 10/10\n",
      "133/133 - 7s - loss: 0.0172 - accuracy: 0.9976 - val_loss: 0.1284 - val_accuracy: 0.9726 - 7s/epoch - 53ms/step\n"
     ]
    }
   ],
   "source": [
    "# fit model\n",
    "\n",
    "history = model.fit(train_sequences, train_labels,\n",
    "        epochs=10, \n",
    "        validation_data=(test_sequences, test_labels), \n",
    "        verbose=2,\n",
    "        batch_size=32\n",
    "        \n",
    "        )"
   ]
  },
  {
   "cell_type": "markdown",
   "id": "76fdec7e",
   "metadata": {},
   "source": [
    "## 4. Making the predictions and visualising the results"
   ]
  },
  {
   "cell_type": "code",
   "execution_count": 11,
   "id": "d1884045",
   "metadata": {},
   "outputs": [
    {
     "data": {
      "image/png": "[encoded data removed]",
      "text/plain": [
       "<Figure size 640x480 with 1 Axes>"
      ]
     },
     "metadata": {},
     "output_type": "display_data"
    }
   ],
   "source": [
    "\n",
    "\n",
    "# plot training and validation accuracy\n",
    "\n",
    "plt.plot(history.history['accuracy'])\n",
    "plt.plot(history.history['val_accuracy'])\n",
    "plt.title('Model Accuracy')\n",
    "plt.ylabel('Accuracy')\n",
    "plt.xlabel('Epoch')\n",
    "plt.legend(['Train', 'Test'], loc='upper left')\n",
    "plt.show()\n",
    "\n",
    "\n",
    "\n"
   ]
  },
  {
   "cell_type": "code",
   "execution_count": 12,
   "id": "63f353d2",
   "metadata": {},
   "outputs": [
    {
     "data": {
      "image/png": "[encoded data removed]",
      "text/plain": [
       "<Figure size 640x480 with 1 Axes>"
      ]
     },
     "metadata": {},
     "output_type": "display_data"
    }
   ],
   "source": [
    "# plot training and validation loss\n",
    "\n",
    "plt.plot(history.history['loss'])\n",
    "plt.plot(history.history['val_loss'])\n",
    "plt.title('Model Loss')\n",
    "plt.ylabel('Loss')\n",
    "plt.xlabel('Epoch')\n",
    "plt.legend(['Train', 'Test'], loc='upper left')\n",
    "plt.show()\n",
    "\n"
   ]
  },
  {
   "cell_type": "code",
   "execution_count": 13,
   "id": "aadbeac0",
   "metadata": {},
   "outputs": [
    {
     "name": "stdout",
     "output_type": "stream",
     "text": [
      "Accuracy: 97.261566\n",
      "34/34 [==============================] - 1s 14ms/step\n",
      "[[0.00297222]\n",
      " [0.99262154]\n",
      " [0.00290159]\n",
      " [0.00281335]\n",
      " [0.9927846 ]\n",
      " [0.00296771]\n",
      " [0.98769873]\n",
      " [0.00296757]\n",
      " [0.00127335]\n",
      " [0.0021235 ]]\n",
      "[False  True False False  True False  True False False False]\n"
     ]
    }
   ],
   "source": [
    "\n",
    "# evaluate model\n",
    "loss, accuracy = model.evaluate(test_sequences, test_labels, verbose=0)\n",
    "print('Accuracy: %f' % (accuracy*100))\n",
    "\n",
    "# make predictions\n",
    "predictions = model.predict(test_sequences)\n",
    "\n",
    "# print predictions\n",
    "print(predictions[:10])\n",
    "\n",
    "# print actual values\n",
    "print(test_labels[:10])\n",
    "\n"
   ]
  },
  {
   "cell_type": "code",
   "execution_count": 14,
   "id": "63b6f77f",
   "metadata": {},
   "outputs": [
    {
     "name": "stdout",
     "output_type": "stream",
     "text": [
      "[[767  14]\n",
      " [ 15 263]]\n"
     ]
    }
   ],
   "source": [
    "\n",
    "# print confusion matrix\n",
    "cm = confusion_matrix(test_labels, predictions.round())\n",
    "print(cm)\n"
   ]
  },
  {
   "cell_type": "code",
   "execution_count": 15,
   "id": "e5ac04d7",
   "metadata": {},
   "outputs": [
    {
     "data": {
      "image/png": "[encoded data removed]",
      "text/plain": [
       "<Figure size 640x480 with 2 Axes>"
      ]
     },
     "metadata": {},
     "output_type": "display_data"
    }
   ],
   "source": [
    "# plot confusion matrix\n",
    "sns.heatmap(cm, annot=True, fmt='d')\n",
    "plt.show()\n"
   ]
  },
  {
   "cell_type": "code",
   "execution_count": 28,
   "id": "4b446b41",
   "metadata": {},
   "outputs": [
    {
     "name": "stdout",
     "output_type": "stream",
     "text": [
      "              precision    recall  f1-score   support\n",
      "\n",
      "       False       0.99      0.98      0.98       786\n",
      "        True       0.95      0.96      0.95       273\n",
      "\n",
      "    accuracy                           0.98      1059\n",
      "   macro avg       0.97      0.97      0.97      1059\n",
      "weighted avg       0.98      0.98      0.98      1059\n",
      "\n"
     ]
    }
   ],
   "source": [
    "# print classification report\n",
    "print(classification_report(test_labels, predictions.round()))"
   ]
  },
  {
   "cell_type": "code",
   "execution_count": null,
   "id": "30e2927c",
   "metadata": {},
   "outputs": [],
   "source": [
    "# Saving the model\n",
    "\n",
    "model.save(\"Resources/RNN_model.h5\")\n",
    "\n",
    "# Saving the tokenizer\n",
    "\n",
    "with open('Resources/tokenizer.pickle', 'wb') as handle:\n",
    "    pickle.dump(tokenizer, handle, protocol=pickle.HIGHEST_PROTOCOL)\n",
    "\n",
    "# Saving the word index\n",
    "\n",
    "with open('Resources/word_index.json', 'w') as fp:\n",
    "    json.dump(word_index, fp)\n",
    "\n",
    "# Saving the reverse word index\n",
    "\n",
    "with open('Resources/reverse_word_index.json', 'w') as fp:\n",
    "    json.dump(reverse_word_index, fp)\n",
    "\n",
    "\n",
    "# saving  all the parameters in json\n",
    "\n",
    "params=dict()\n",
    "\n",
    "params['maxlen']=maxlen\n",
    "params['vocab size']=vocab_size\n",
    "\n",
    "with open('Resources/parameters.json','w') as fp:\n",
    "    json.dump(params,fp)"
   ]
  },
  {
   "cell_type": "code",
   "execution_count": null,
   "id": "64a2c663",
   "metadata": {},
   "outputs": [],
   "source": [
    "import tensorflow as tf\n",
    "from tensorflow import keras\n",
    "from keras.preprocessing.sequence import TimeseriesGenerator\n",
    "from keras.models import Sequential\n",
    "\n",
    "# import pad sequence\n",
    "from keras_preprocessing.sequence import pad_sequences\n",
    "\n",
    "from keras.layers import Dense, LSTM, Dropout\n",
    "from keras.preprocessing.text import Tokenizer\n",
    "\n",
    "from keras.layers import Embedding\n",
    "\n",
    "\n",
    "\n",
    "# parameters\n",
    "\n",
    "vocab_size = len(word_index) + 1\n",
    "embedding_dim = 32\n",
    "\n",
    "# create model\n",
    "\n",
    "# instantiate model\n",
    "model = Sequential()\n",
    "\n",
    "\n",
    "# add embedding layer\n",
    "model.add(Embedding(vocab_size, embedding_dim))\n",
    "\n",
    "# add LSTM layer\n",
    "model.add(LSTM(32))\n",
    "\n",
    "# add dense layer\n",
    "model.add(Dense(1, activation='sigmoid'))\n",
    "\n",
    "# model summary\n",
    "model.summary()\n"
   ]
  }
 ],
 "metadata": {
  "kernelspec": {
   "display_name": "Python 3.10.6 64-bit",
   "language": "python",
   "name": "python3"
  },
  "language_info": {
   "codemirror_mode": {
    "name": "ipython",
    "version": 3
   },
   "file_extension": ".py",
   "mimetype": "text/x-python",
   "name": "python",
   "nbconvert_exporter": "python",
   "pygments_lexer": "ipython3",
   "version": "3.10.6"
  },
  "vscode": {
   "interpreter": {
    "hash": "916dbcbb3f70747c44a77c7bcd40155683ae19c65e1c03b4aa3499c5328201f1"
   }
  }
 },
 "nbformat": 4,
 "nbformat_minor": 5
}
